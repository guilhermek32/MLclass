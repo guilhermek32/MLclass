{
 "cells": [
  {
   "cell_type": "markdown",
   "id": "9130d97d",
   "metadata": {},
   "source": [
    "# 📊 Correlação entre Variáveis e Incidência de Diabetes\n",
    "\n",
    "Este relatório apresenta a correlação entre as principais variáveis clínicas e a incidência de diabetes (`Outcome`) no conjunto de dados de pacientes.\n",
    "\n",
    "---\n",
    "\n",
    "## ✅ Variáveis Analisadas\n",
    "\n",
    "| Variável                    | Descrição                                                              |\n",
    "|-----------------------------|-------------------------------------------------------------------------|\n",
    "| `Pregnancies`              | Número de gestações                                                    |\n",
    "| `Glucose`                  | Nível de glicose plasmática em jejum                                   |\n",
    "| `BloodPressure`            | Pressão arterial diastólica (mm Hg)                                    |\n",
    "| `SkinThickness`            | Espessura da pele (mm)                             |\n",
    "| `Insulin`                  | Nível de insulina no soro (mu U/ml)                                    |\n",
    "| `BMI`                      | Índice de Massa Corporal (peso/altura²)                                |\n",
    "| `DiabetesPedigreeFunction` | Grau de predisposição genética ao diabetes                             |\n",
    "| `Age`                      | Idade do paciente                                                      |\n"
   ]
  },
  {
   "cell_type": "code",
   "execution_count": 1,
   "id": "35724867",
   "metadata": {},
   "outputs": [],
   "source": [
    "import pandas as pd\n",
    "import seaborn as sn\n",
    "from sklearn.neighbors import KNeighborsClassifier\n",
    "import requests"
   ]
  },
  {
   "cell_type": "code",
   "execution_count": 2,
   "id": "104aa764",
   "metadata": {},
   "outputs": [
    {
     "name": "stdout",
     "output_type": "stream",
     "text": [
      "\n",
      " - Lendo o arquivo com o dataset sobre diabetes\n"
     ]
    },
    {
     "data": {
      "text/html": [
       "<div>\n",
       "<style scoped>\n",
       "    .dataframe tbody tr th:only-of-type {\n",
       "        vertical-align: middle;\n",
       "    }\n",
       "\n",
       "    .dataframe tbody tr th {\n",
       "        vertical-align: top;\n",
       "    }\n",
       "\n",
       "    .dataframe thead th {\n",
       "        text-align: right;\n",
       "    }\n",
       "</style>\n",
       "<table border=\"1\" class=\"dataframe\">\n",
       "  <thead>\n",
       "    <tr style=\"text-align: right;\">\n",
       "      <th></th>\n",
       "      <th>Pregnancies</th>\n",
       "      <th>Glucose</th>\n",
       "      <th>BloodPressure</th>\n",
       "      <th>SkinThickness</th>\n",
       "      <th>Insulin</th>\n",
       "      <th>BMI</th>\n",
       "      <th>DiabetesPedigreeFunction</th>\n",
       "      <th>Age</th>\n",
       "      <th>Outcome</th>\n",
       "    </tr>\n",
       "  </thead>\n",
       "  <tbody>\n",
       "    <tr>\n",
       "      <th>0</th>\n",
       "      <td>6</td>\n",
       "      <td>148.0</td>\n",
       "      <td>72.0</td>\n",
       "      <td>35.0</td>\n",
       "      <td>NaN</td>\n",
       "      <td>33.6</td>\n",
       "      <td>0.627</td>\n",
       "      <td>50</td>\n",
       "      <td>1</td>\n",
       "    </tr>\n",
       "    <tr>\n",
       "      <th>1</th>\n",
       "      <td>1</td>\n",
       "      <td>85.0</td>\n",
       "      <td>66.0</td>\n",
       "      <td>29.0</td>\n",
       "      <td>NaN</td>\n",
       "      <td>26.6</td>\n",
       "      <td>0.351</td>\n",
       "      <td>31</td>\n",
       "      <td>0</td>\n",
       "    </tr>\n",
       "    <tr>\n",
       "      <th>2</th>\n",
       "      <td>8</td>\n",
       "      <td>183.0</td>\n",
       "      <td>64.0</td>\n",
       "      <td>NaN</td>\n",
       "      <td>NaN</td>\n",
       "      <td>23.3</td>\n",
       "      <td>0.672</td>\n",
       "      <td>32</td>\n",
       "      <td>1</td>\n",
       "    </tr>\n",
       "    <tr>\n",
       "      <th>3</th>\n",
       "      <td>0</td>\n",
       "      <td>137.0</td>\n",
       "      <td>40.0</td>\n",
       "      <td>35.0</td>\n",
       "      <td>168.0</td>\n",
       "      <td>43.1</td>\n",
       "      <td>2.288</td>\n",
       "      <td>33</td>\n",
       "      <td>1</td>\n",
       "    </tr>\n",
       "    <tr>\n",
       "      <th>4</th>\n",
       "      <td>5</td>\n",
       "      <td>116.0</td>\n",
       "      <td>74.0</td>\n",
       "      <td>NaN</td>\n",
       "      <td>NaN</td>\n",
       "      <td>25.6</td>\n",
       "      <td>0.201</td>\n",
       "      <td>30</td>\n",
       "      <td>0</td>\n",
       "    </tr>\n",
       "    <tr>\n",
       "      <th>...</th>\n",
       "      <td>...</td>\n",
       "      <td>...</td>\n",
       "      <td>...</td>\n",
       "      <td>...</td>\n",
       "      <td>...</td>\n",
       "      <td>...</td>\n",
       "      <td>...</td>\n",
       "      <td>...</td>\n",
       "      <td>...</td>\n",
       "    </tr>\n",
       "    <tr>\n",
       "      <th>567</th>\n",
       "      <td>9</td>\n",
       "      <td>89.0</td>\n",
       "      <td>62.0</td>\n",
       "      <td>NaN</td>\n",
       "      <td>NaN</td>\n",
       "      <td>22.5</td>\n",
       "      <td>0.142</td>\n",
       "      <td>33</td>\n",
       "      <td>0</td>\n",
       "    </tr>\n",
       "    <tr>\n",
       "      <th>568</th>\n",
       "      <td>2</td>\n",
       "      <td>122.0</td>\n",
       "      <td>70.0</td>\n",
       "      <td>27.0</td>\n",
       "      <td>NaN</td>\n",
       "      <td>36.8</td>\n",
       "      <td>0.340</td>\n",
       "      <td>27</td>\n",
       "      <td>0</td>\n",
       "    </tr>\n",
       "    <tr>\n",
       "      <th>569</th>\n",
       "      <td>5</td>\n",
       "      <td>121.0</td>\n",
       "      <td>72.0</td>\n",
       "      <td>23.0</td>\n",
       "      <td>112.0</td>\n",
       "      <td>26.2</td>\n",
       "      <td>0.245</td>\n",
       "      <td>30</td>\n",
       "      <td>0</td>\n",
       "    </tr>\n",
       "    <tr>\n",
       "      <th>570</th>\n",
       "      <td>1</td>\n",
       "      <td>126.0</td>\n",
       "      <td>60.0</td>\n",
       "      <td>NaN</td>\n",
       "      <td>NaN</td>\n",
       "      <td>30.1</td>\n",
       "      <td>0.349</td>\n",
       "      <td>47</td>\n",
       "      <td>1</td>\n",
       "    </tr>\n",
       "    <tr>\n",
       "      <th>571</th>\n",
       "      <td>1</td>\n",
       "      <td>93.0</td>\n",
       "      <td>70.0</td>\n",
       "      <td>31.0</td>\n",
       "      <td>NaN</td>\n",
       "      <td>30.4</td>\n",
       "      <td>0.315</td>\n",
       "      <td>23</td>\n",
       "      <td>0</td>\n",
       "    </tr>\n",
       "  </tbody>\n",
       "</table>\n",
       "<p>572 rows × 9 columns</p>\n",
       "</div>"
      ],
      "text/plain": [
       "     Pregnancies  Glucose  BloodPressure  SkinThickness  Insulin   BMI  \\\n",
       "0              6    148.0           72.0           35.0      NaN  33.6   \n",
       "1              1     85.0           66.0           29.0      NaN  26.6   \n",
       "2              8    183.0           64.0            NaN      NaN  23.3   \n",
       "3              0    137.0           40.0           35.0    168.0  43.1   \n",
       "4              5    116.0           74.0            NaN      NaN  25.6   \n",
       "..           ...      ...            ...            ...      ...   ...   \n",
       "567            9     89.0           62.0            NaN      NaN  22.5   \n",
       "568            2    122.0           70.0           27.0      NaN  36.8   \n",
       "569            5    121.0           72.0           23.0    112.0  26.2   \n",
       "570            1    126.0           60.0            NaN      NaN  30.1   \n",
       "571            1     93.0           70.0           31.0      NaN  30.4   \n",
       "\n",
       "     DiabetesPedigreeFunction  Age  Outcome  \n",
       "0                       0.627   50        1  \n",
       "1                       0.351   31        0  \n",
       "2                       0.672   32        1  \n",
       "3                       2.288   33        1  \n",
       "4                       0.201   30        0  \n",
       "..                        ...  ...      ...  \n",
       "567                     0.142   33        0  \n",
       "568                     0.340   27        0  \n",
       "569                     0.245   30        0  \n",
       "570                     0.349   47        1  \n",
       "571                     0.315   23        0  \n",
       "\n",
       "[572 rows x 9 columns]"
      ]
     },
     "execution_count": 2,
     "metadata": {},
     "output_type": "execute_result"
    }
   ],
   "source": [
    "print('\\n - Lendo o arquivo com o dataset sobre diabetes')\n",
    "data = pd.read_csv('diabetes_dataset.csv')\n",
    "data\n"
   ]
  },
  {
   "cell_type": "code",
   "execution_count": 3,
   "id": "ae345533",
   "metadata": {},
   "outputs": [
    {
     "name": "stdout",
     "output_type": "stream",
     "text": [
      "<class 'pandas.core.frame.DataFrame'>\n",
      "RangeIndex: 572 entries, 0 to 571\n",
      "Data columns (total 9 columns):\n",
      " #   Column                    Non-Null Count  Dtype  \n",
      "---  ------                    --------------  -----  \n",
      " 0   Pregnancies               572 non-null    int64  \n",
      " 1   Glucose                   567 non-null    float64\n",
      " 2   BloodPressure             537 non-null    float64\n",
      " 3   SkinThickness             345 non-null    float64\n",
      " 4   Insulin                   198 non-null    float64\n",
      " 5   BMI                       561 non-null    float64\n",
      " 6   DiabetesPedigreeFunction  572 non-null    float64\n",
      " 7   Age                       572 non-null    int64  \n",
      " 8   Outcome                   572 non-null    int64  \n",
      "dtypes: float64(6), int64(3)\n",
      "memory usage: 40.3 KB\n"
     ]
    }
   ],
   "source": [
    "data.info()"
   ]
  },
  {
   "cell_type": "code",
   "execution_count": 4,
   "id": "74f0ece6",
   "metadata": {},
   "outputs": [
    {
     "name": "stdout",
     "output_type": "stream",
     "text": [
      "\n",
      " - Verificando colunas e removendo colunas desnecessárias\n",
      "Removidas 35 linhas com mais de dois valores ausentes.\n"
     ]
    }
   ],
   "source": [
    "print(\"\\n - Verificando colunas e removendo colunas desnecessárias\")\n",
    "# Detectando linhas com mais de dois valores ausentes\n",
    "rows_with_missing = data.isnull().sum(axis=1)\n",
    "rows_to_drop = rows_with_missing[rows_with_missing > 2].index\n",
    "data = data.drop(index=rows_to_drop)\n",
    "print(f\"Removidas {len(rows_to_drop)} linhas com mais de dois valores ausentes.\")"
   ]
  },
  {
   "cell_type": "code",
   "execution_count": 5,
   "id": "72eb0437",
   "metadata": {},
   "outputs": [
    {
     "name": "stdout",
     "output_type": "stream",
     "text": [
      "\n",
      " - Substituindo valores nulos pela média\n"
     ]
    }
   ],
   "source": [
    "# substituindo valores nulos pela média\n",
    "print('\\n - Substituindo valores nulos pela média')\n",
    "data['Glucose'] = data['Glucose'].fillna(data['Glucose'].median())\n",
    "data['BloodPressure'] = data['BloodPressure'].fillna(data['BloodPressure'].median())\n",
    "data['BMI'] = data['BMI'].fillna(data['BMI'].median())\n",
    "data['SkinThickness'] = data['SkinThickness'].fillna(data['SkinThickness'].median())"
   ]
  },
  {
   "cell_type": "code",
   "execution_count": 6,
   "id": "d8a90cc7",
   "metadata": {},
   "outputs": [
    {
     "data": {
      "text/html": [
       "<div>\n",
       "<style scoped>\n",
       "    .dataframe tbody tr th:only-of-type {\n",
       "        vertical-align: middle;\n",
       "    }\n",
       "\n",
       "    .dataframe tbody tr th {\n",
       "        vertical-align: top;\n",
       "    }\n",
       "\n",
       "    .dataframe thead th {\n",
       "        text-align: right;\n",
       "    }\n",
       "</style>\n",
       "<table border=\"1\" class=\"dataframe\">\n",
       "  <thead>\n",
       "    <tr style=\"text-align: right;\">\n",
       "      <th></th>\n",
       "      <th>Pregnancies</th>\n",
       "      <th>Glucose</th>\n",
       "      <th>BloodPressure</th>\n",
       "      <th>SkinThickness</th>\n",
       "      <th>Insulin</th>\n",
       "      <th>BMI</th>\n",
       "      <th>DiabetesPedigreeFunction</th>\n",
       "      <th>Age</th>\n",
       "      <th>Outcome</th>\n",
       "    </tr>\n",
       "  </thead>\n",
       "  <tbody>\n",
       "    <tr>\n",
       "      <th>count</th>\n",
       "      <td>537.000000</td>\n",
       "      <td>537.000000</td>\n",
       "      <td>537.000000</td>\n",
       "      <td>537.000000</td>\n",
       "      <td>198.000000</td>\n",
       "      <td>537.000000</td>\n",
       "      <td>537.000000</td>\n",
       "      <td>537.000000</td>\n",
       "      <td>537.000000</td>\n",
       "    </tr>\n",
       "    <tr>\n",
       "      <th>mean</th>\n",
       "      <td>4.141527</td>\n",
       "      <td>121.770950</td>\n",
       "      <td>73.087523</td>\n",
       "      <td>29.586592</td>\n",
       "      <td>156.934343</td>\n",
       "      <td>32.344320</td>\n",
       "      <td>0.464603</td>\n",
       "      <td>34.160149</td>\n",
       "      <td>0.351955</td>\n",
       "    </tr>\n",
       "    <tr>\n",
       "      <th>std</th>\n",
       "      <td>3.453109</td>\n",
       "      <td>30.199054</td>\n",
       "      <td>12.301778</td>\n",
       "      <td>8.364172</td>\n",
       "      <td>119.066934</td>\n",
       "      <td>6.654084</td>\n",
       "      <td>0.340512</td>\n",
       "      <td>12.104969</td>\n",
       "      <td>0.478025</td>\n",
       "    </tr>\n",
       "    <tr>\n",
       "      <th>min</th>\n",
       "      <td>0.000000</td>\n",
       "      <td>44.000000</td>\n",
       "      <td>30.000000</td>\n",
       "      <td>7.000000</td>\n",
       "      <td>16.000000</td>\n",
       "      <td>18.200000</td>\n",
       "      <td>0.078000</td>\n",
       "      <td>21.000000</td>\n",
       "      <td>0.000000</td>\n",
       "    </tr>\n",
       "    <tr>\n",
       "      <th>25%</th>\n",
       "      <td>1.000000</td>\n",
       "      <td>100.000000</td>\n",
       "      <td>65.000000</td>\n",
       "      <td>27.000000</td>\n",
       "      <td>77.500000</td>\n",
       "      <td>27.500000</td>\n",
       "      <td>0.237000</td>\n",
       "      <td>24.000000</td>\n",
       "      <td>0.000000</td>\n",
       "    </tr>\n",
       "    <tr>\n",
       "      <th>50%</th>\n",
       "      <td>4.000000</td>\n",
       "      <td>117.000000</td>\n",
       "      <td>72.000000</td>\n",
       "      <td>30.000000</td>\n",
       "      <td>129.500000</td>\n",
       "      <td>32.000000</td>\n",
       "      <td>0.356000</td>\n",
       "      <td>30.000000</td>\n",
       "      <td>0.000000</td>\n",
       "    </tr>\n",
       "    <tr>\n",
       "      <th>75%</th>\n",
       "      <td>6.000000</td>\n",
       "      <td>140.000000</td>\n",
       "      <td>80.000000</td>\n",
       "      <td>32.000000</td>\n",
       "      <td>185.000000</td>\n",
       "      <td>36.600000</td>\n",
       "      <td>0.607000</td>\n",
       "      <td>42.000000</td>\n",
       "      <td>1.000000</td>\n",
       "    </tr>\n",
       "    <tr>\n",
       "      <th>max</th>\n",
       "      <td>17.000000</td>\n",
       "      <td>199.000000</td>\n",
       "      <td>122.000000</td>\n",
       "      <td>99.000000</td>\n",
       "      <td>744.000000</td>\n",
       "      <td>57.300000</td>\n",
       "      <td>2.329000</td>\n",
       "      <td>81.000000</td>\n",
       "      <td>1.000000</td>\n",
       "    </tr>\n",
       "  </tbody>\n",
       "</table>\n",
       "</div>"
      ],
      "text/plain": [
       "       Pregnancies     Glucose  BloodPressure  SkinThickness     Insulin  \\\n",
       "count   537.000000  537.000000     537.000000     537.000000  198.000000   \n",
       "mean      4.141527  121.770950      73.087523      29.586592  156.934343   \n",
       "std       3.453109   30.199054      12.301778       8.364172  119.066934   \n",
       "min       0.000000   44.000000      30.000000       7.000000   16.000000   \n",
       "25%       1.000000  100.000000      65.000000      27.000000   77.500000   \n",
       "50%       4.000000  117.000000      72.000000      30.000000  129.500000   \n",
       "75%       6.000000  140.000000      80.000000      32.000000  185.000000   \n",
       "max      17.000000  199.000000     122.000000      99.000000  744.000000   \n",
       "\n",
       "              BMI  DiabetesPedigreeFunction         Age     Outcome  \n",
       "count  537.000000                537.000000  537.000000  537.000000  \n",
       "mean    32.344320                  0.464603   34.160149    0.351955  \n",
       "std      6.654084                  0.340512   12.104969    0.478025  \n",
       "min     18.200000                  0.078000   21.000000    0.000000  \n",
       "25%     27.500000                  0.237000   24.000000    0.000000  \n",
       "50%     32.000000                  0.356000   30.000000    0.000000  \n",
       "75%     36.600000                  0.607000   42.000000    1.000000  \n",
       "max     57.300000                  2.329000   81.000000    1.000000  "
      ]
     },
     "execution_count": 6,
     "metadata": {},
     "output_type": "execute_result"
    }
   ],
   "source": [
    "# métricas de avaliação dos campos\n",
    "data.describe()"
   ]
  },
  {
   "cell_type": "code",
   "execution_count": 7,
   "id": "12bea1a8",
   "metadata": {},
   "outputs": [
    {
     "data": {
      "text/plain": [
       "<Axes: >"
      ]
     },
     "execution_count": 7,
     "metadata": {},
     "output_type": "execute_result"
    },
    {
     "data": {
      "image/png": "[encoded data removed]",
      "text/plain": [
       "<Figure size 640x480 with 2 Axes>"
      ]
     },
     "metadata": {},
     "output_type": "display_data"
    }
   ],
   "source": [
    "correlation = data.corr()\n",
    "\n",
    "plot = sn.heatmap(correlation, annot = True, fmt=\".1f\", linewidths=.6)\n",
    "plot"
   ]
  },
  {
   "cell_type": "markdown",
   "id": "faa27bce",
   "metadata": {},
   "source": [
    "## 🔢 Correlação Real com o Diagnóstico de Diabetes (`Outcome`)\n",
    "\n",
    "| Variável                    | Correlação com `Outcome` | Interpretação                                  |\n",
    "|-----------------------------|---------------------------|-------------------------------------------------|\n",
    "| `Glucose`                  | **0.5**                   | Forte relação com diabetes                      |\n",
    "| `Insulin`                  | **0.3**                   | Correlação moderada (ausência de muitos registros) |\n",
    "| `BMI`                      | **0.3**                   | Relação com obesidade                          |\n",
    "| `Pregnancies`              | **0.2**                   | Gravidez múltipla pode elevar o risco          |\n",
    "| `Age`                      | **0.2**                   | Risco aumenta com a idade                      |\n",
    "| `DiabetesPedigreeFunction` | **0.2**                   | Indicador genético relevante                   |\n",
    "| `SkinThickness`            | **0.2**                   | Ligado à gordura corporal                      |\n",
    "| `BloodPressure`            | **0.1**                   | Correlação fraca isoladamente                  |"
   ]
  },
  {
   "cell_type": "code",
   "execution_count": 8,
   "id": "d3255736",
   "metadata": {},
   "outputs": [
    {
     "name": "stdout",
     "output_type": "stream",
     "text": [
      "\n",
      " - Dropando colunas\n"
     ]
    }
   ],
   "source": [
    "print('\\n - Dropando colunas')\n",
    "data = data.drop(columns=['Insulin', 'BloodPressure'])"
   ]
  },
  {
   "cell_type": "code",
   "execution_count": 9,
   "id": "ba03f461",
   "metadata": {},
   "outputs": [
    {
     "name": "stdout",
     "output_type": "stream",
     "text": [
      "\n",
      " - Winsorizando os dados\n"
     ]
    }
   ],
   "source": [
    "print('\\n - Winsorizando os dados')\n",
    "\n",
    "def winsorize_data(df, columns, lower_quantile=0.05, upper_quantile=0.95):\n",
    "    for column in columns:\n",
    "        lower_bound = df[column].quantile(lower_quantile)\n",
    "        upper_bound = df[column].quantile(upper_quantile)\n",
    "        df[column] = df[column].clip(lower=lower_bound, upper=upper_bound)\n",
    "    return df\n",
    "\n",
    "\n",
    "feature_cols = ['Pregnancies', 'Glucose', 'SkinThickness', 'BMI', 'DiabetesPedigreeFunction', 'Age']\n",
    "data = winsorize_data(data, feature_cols)\n"
   ]
  },
  {
   "cell_type": "code",
   "execution_count": 10,
   "id": "88003665",
   "metadata": {},
   "outputs": [],
   "source": [
    "def max_normalize(df, cols):\n",
    "    df_norm = df.copy()\n",
    "    \n",
    "    # seleciona colunas numéricas, se não especificadas\n",
    "    if cols is None:\n",
    "        cols = df_norm.select_dtypes(include=\"number\").columns.tolist()\n",
    "    \n",
    "    # calcula máximos e faz a normalização\n",
    "    max_vals = df_norm[cols].max()\n",
    "\n",
    "    # evita divisão por zero\n",
    "    max_vals = max_vals.replace({0: 1})\n",
    "    \n",
    "    # divisão vetorizada por coluna\n",
    "    df_norm[cols] = df_norm[cols].div(max_vals)\n",
    "    \n",
    "    return df_norm\n",
    "\n",
    "data = max_normalize(data, feature_cols)"
   ]
  },
  {
   "cell_type": "code",
   "execution_count": 11,
   "id": "2b763b23",
   "metadata": {},
   "outputs": [
    {
     "name": "stdout",
     "output_type": "stream",
     "text": [
      " - Criando X e y para o algoritmo de aprendizagem a partir do arquivo diabetes_dataset\n"
     ]
    }
   ],
   "source": [
    "# Criando X and y par ao algorítmo de aprendizagem de máquina.\\\n",
    "print(' - Criando X e y para o algoritmo de aprendizagem a partir do arquivo diabetes_dataset')\n",
    "\n",
    "X = data[feature_cols]\n",
    "y = data.Outcome"
   ]
  },
  {
   "cell_type": "code",
   "execution_count": 15,
   "id": "5a4725e9",
   "metadata": {},
   "outputs": [
    {
     "name": "stdout",
     "output_type": "stream",
     "text": [
      " - Dividindo os dados em Treino e Teste\n",
      " - Dimensões dos dados -> Treino: 429 amostras | Teste: 108 amostras\n",
      " - Criando e treinando o modelo preditivo\n",
      " - Realizando previsões nos dados de teste para avaliação\n",
      "\n",
      "----------- RESULTADO -----------\n",
      "A acurácia do modelo é: 69.44%\n",
      "---------------------------------\n"
     ]
    }
   ],
   "source": [
    "from sklearn.model_selection import train_test_split\n",
    "from sklearn.metrics import accuracy_score\n",
    "\n",
    "# LocalHost\n",
    "print(' - Dividindo os dados em Treino e Teste')\n",
    "X_train, X_test, y_train, y_test = train_test_split(X, y, test_size=0.2, random_state=42)\n",
    "\n",
    "print(f' - Dimensões dos dados -> Treino: {X_train.shape[0]} amostras | Teste: {X_test.shape[0]} amostras')\n",
    "\n",
    "print(' - Criando e treinando o modelo preditivo')\n",
    "neigh_local = KNeighborsClassifier(n_neighbors=3)\n",
    "neigh_local.fit(X_train, y_train)\n",
    "\n",
    "print(' - Realizando previsões nos dados de teste para avaliação')\n",
    "y_pred = neigh_local.predict(X_test)\n",
    "\n",
    "accuracy_local = accuracy_score(y_test, y_pred)\n",
    "\n",
    "print(\"\\n----------- RESULTADO -----------\")\n",
    "print(f\"A acurácia do modelo é: {accuracy_local * 100:.2f}%\")\n",
    "print(\"---------------------------------\")"
   ]
  },
  {
   "cell_type": "code",
   "execution_count": 16,
   "id": "604fcfcc",
   "metadata": {},
   "outputs": [
    {
     "name": "stdout",
     "output_type": "stream",
     "text": [
      " - Criando modelo preditivo\n",
      " - Aplicando modelo e enviando para o servidor\n",
      " - Resposta do servidor:\n",
      " {\"error\":{\"code\":102,\"message\":\"Espere ao menos 10 minutos entre dois envios, tempo restante 00 dias 00 horas 00 minutos 24 segundos\"}} \n",
      "\n"
     ]
    }
   ],
   "source": [
    "# Servidor \n",
    "\n",
    "# Ciando o modelo preditivo para a base trabalhada\n",
    "print(' - Criando modelo preditivo')\n",
    "neigh = KNeighborsClassifier(n_neighbors=3)\n",
    "neigh.fit(X, y)\n",
    "\n",
    "#realizando previsões com o arquivo de\n",
    "print(' - Aplicando modelo e enviando para o servidor')\n",
    "data_app = pd.read_csv('diabetes_app.csv')\n",
    "data_app = data_app[feature_cols]\n",
    "y_pred = neigh.predict(data_app)\n",
    "\n",
    "# Enviando previsões realizadas com o modelo para o servidor\n",
    "URL = \"https://aydanomachado.com/mlclass/01_Preprocessing.php\"\n",
    "\n",
    "#TODO Substituir pela sua chave aqui\n",
    "DEV_KEY = \"Trio Ternura\"\n",
    "\n",
    "# json para ser enviado para o servidor\n",
    "data = {'dev_key':DEV_KEY,\n",
    "        'predictions':pd.Series(y_pred).to_json(orient='values')}\n",
    "\n",
    "# Enviando requisição e salvando o objeto resposta\n",
    "r = requests.post(url = URL, data = data)\n",
    "\n",
    "# Extraindo e imprimindo o texto da resposta\n",
    "pastebin_url = r.text\n",
    "print(\" - Resposta do servidor:\\n\", r.text, \"\\n\")"
   ]
  }
 ],
 "metadata": {
  "kernelspec": {
   "display_name": "venv",
   "language": "python",
   "name": "python3"
  },
  "language_info": {
   "codemirror_mode": {
    "name": "ipython",
    "version": 3
   },
   "file_extension": ".py",
   "mimetype": "text/x-python",
   "name": "python",
   "nbconvert_exporter": "python",
   "pygments_lexer": "ipython3",
   "version": "3.10.12"
  }
 },
 "nbformat": 4,
 "nbformat_minor": 5
}
